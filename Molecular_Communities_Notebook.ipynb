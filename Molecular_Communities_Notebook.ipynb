{
 "cells": [
  {
   "cell_type": "code",
   "execution_count": 1,
   "id": "e2c4ffba",
   "metadata": {},
   "outputs": [],
   "source": [
    "import networkx as nx"
   ]
  },
  {
   "cell_type": "code",
   "execution_count": 11,
   "id": "2a997afe",
   "metadata": {},
   "outputs": [
    {
     "data": {
      "text/plain": [
       "'3.2.1'"
      ]
     },
     "execution_count": 11,
     "metadata": {},
     "output_type": "execute_result"
    }
   ],
   "source": [
    "nx.__version__"
   ]
  },
  {
   "cell_type": "code",
   "execution_count": 7,
   "id": "67e2dee6",
   "metadata": {},
   "outputs": [],
   "source": [
    "INPUT_FILE_PATH = '/Users/alexander/Downloads/5_frag/main.graphml' #main graph ML input\n",
    "OUTPUT_PATH = '/Users/alexander/Downloads/5_frag_t'                #output folder\n",
    "OUTPUT_NAME = 'test_graph_name'                                    #output file name "
   ]
  },
  {
   "cell_type": "code",
   "execution_count": 6,
   "id": "4a90aee7",
   "metadata": {},
   "outputs": [],
   "source": [
    "G = nx.read_graphml(INPUT_FILE_PATH)"
   ]
  },
  {
   "cell_type": "code",
   "execution_count": 8,
   "id": "bfb40f45",
   "metadata": {},
   "outputs": [
    {
     "name": "stdout",
     "output_type": "stream",
     "text": [
      "number of components: 1177\n",
      "largest component:  1344\n"
     ]
    }
   ],
   "source": [
    "print(\"number of components:\", nx.number_connected_components(G))\n",
    "Gcc = sorted(nx.connected_components(G), key=len, reverse=True)\n",
    "Gc = G.subgraph(Gcc[0])\n",
    "print(\"largest component: \",len(Gc))"
   ]
  },
  {
   "cell_type": "code",
   "execution_count": 10,
   "id": "c242c0f5",
   "metadata": {},
   "outputs": [
    {
     "name": "stdout",
     "output_type": "stream",
     "text": [
      "Entire graph: 2670 nodes\n",
      "GCC: 1344 nodes\n",
      "Density: 0.0072\n",
      "Communities: 23\n",
      "Modularity: 0.6858\n",
      "Number of components in test_graph_name_cut.graphml (validation): 23\n",
      "\n",
      "\n",
      "\n"
     ]
    }
   ],
   "source": [
    "\n",
    "print(\"Entire graph: %s nodes\\nGCC: %s nodes\\nDensity: %.4f\"%(len(G.nodes()), len(Gc.nodes()),nx.density(Gc) ))\n",
    "\n",
    "comm = nx.community.louvain_communities(Gc, seed=123)\n",
    "print(\"Communities: %s\"%len(comm))\n",
    "mod_val = nx.community.modularity(Gc,comm)\n",
    "print(\"Modularity: %.4f\"%mod_val)\n",
    "\n",
    "for ind,c in enumerate(comm):\n",
    "    for i in c:\n",
    "        Gc.nodes[i]['community_id'] = ind + 1\n",
    "\n",
    "\n",
    "for i in Gc:\n",
    "    st = True\n",
    "    for n in Gc.neighbors(i):\n",
    "        if Gc.edges[i,n]['cosine_score'] >= 0.7:\n",
    "            st = False\n",
    "            break\n",
    "    if st == True:\n",
    "        Gc.nodes[i]['singleton'] = '1'\n",
    "    else:\n",
    "        Gc.nodes[i]['singleton'] = '0'\n",
    "\n",
    "\n",
    "nx.write_graphml(Gc,f'{OUTPUT_PATH}/{OUTPUT_NAME}.graphml')\n",
    "\n",
    "Gc_copy = nx.Graph(Gc)\n",
    "for i in Gc.edges(data=True):\n",
    "    id1 = Gc.nodes[i[0]]['community_id']\n",
    "    id2 = Gc.nodes[i[1]]['community_id']\n",
    "    if id1 != id2:\n",
    "        Gc_copy.remove_edge(i[0], i[1])\n",
    "\n",
    "nx.write_graphml(Gc_copy,f'{OUTPUT_PATH}/{OUTPUT_NAME}_cut.graphml')\n",
    "print('Number of components in %s_cut.graphml (validation): %s'%(OUTPUT_NAME,nx.number_connected_components(Gc_copy)))\n",
    "\n",
    "S = [Gc.subgraph(c).copy() for c in nx.connected_components(Gc)]\n",
    "\n",
    "St = nx.maximum_spanning_tree(Gc_copy,weight='cosine_score')\n",
    "S2 = [St.subgraph(c).copy() for c in nx.connected_components(St)]\n",
    "nx.write_graphml(St,f'{OUTPUT_PATH}/{OUTPUT_NAME}_spanning_tree.graphml')\n",
    "\n",
    "St1 = nx.maximum_spanning_tree(nx.spanner(Gc_copy,5,weight='cosine_score'),weight='cosine_score')\n",
    "Gc_copy = nx.Graph(Gc)\n",
    "for i in Gc.edges():\n",
    "    if i not in St1.edges():\n",
    "        Gc_copy.remove_edge(i[0], i[1])\n",
    "\n",
    "nx.write_graphml(Gc_copy,f'{OUTPUT_PATH}/{OUTPUT_NAME}_spanner_spanning_tree.graphml')\n",
    "\n",
    "\n",
    "\n",
    "print(\"\\n\\n\")"
   ]
  },
  {
   "cell_type": "code",
   "execution_count": null,
   "id": "b570c8e6",
   "metadata": {},
   "outputs": [],
   "source": []
  }
 ],
 "metadata": {
  "kernelspec": {
   "display_name": "Python [conda env:tf] *",
   "language": "python",
   "name": "conda-env-tf-py"
  },
  "language_info": {
   "codemirror_mode": {
    "name": "ipython",
    "version": 3
   },
   "file_extension": ".py",
   "mimetype": "text/x-python",
   "name": "python",
   "nbconvert_exporter": "python",
   "pygments_lexer": "ipython3",
   "version": "3.11.4"
  }
 },
 "nbformat": 4,
 "nbformat_minor": 5
}
